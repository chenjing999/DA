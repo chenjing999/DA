{
 "cells": [
  {
   "cell_type": "code",
   "execution_count": 54,
   "metadata": {},
   "outputs": [],
   "source": [
    "# !/usr/bin/env python\n",
    "# -*- coding:utf-8 -*-\n",
    "import pandas as pd\n",
    "import numpy as np\n",
    "%matplotlib inline\n",
    "import matplotlib.pyplot as plt\n",
    "import seaborn as sns"
   ]
  },
  {
   "cell_type": "code",
   "execution_count": 55,
   "metadata": {},
   "outputs": [
    {
     "data": {
      "text/plain": [
       "(13580, 11)"
      ]
     },
     "execution_count": 55,
     "metadata": {},
     "output_type": "execute_result"
    }
   ],
   "source": [
    "# 1.Use case driven preprocessing\n",
    "# import the data\n",
    "file_path = 'D:/DA/melb_data11.csv'\n",
    "df = pd.read_csv(file_path, header=0)\n",
    "# check data dimensions\n",
    "df.shape "
   ]
  },
  {
   "cell_type": "code",
   "execution_count": 56,
   "metadata": {},
   "outputs": [
    {
     "data": {
      "text/html": [
       "<div>\n",
       "<style scoped>\n",
       "    .dataframe tbody tr th:only-of-type {\n",
       "        vertical-align: middle;\n",
       "    }\n",
       "\n",
       "    .dataframe tbody tr th {\n",
       "        vertical-align: top;\n",
       "    }\n",
       "\n",
       "    .dataframe thead th {\n",
       "        text-align: right;\n",
       "    }\n",
       "</style>\n",
       "<table border=\"1\" class=\"dataframe\">\n",
       "  <thead>\n",
       "    <tr style=\"text-align: right;\">\n",
       "      <th></th>\n",
       "      <th>Rooms</th>\n",
       "      <th>Distance</th>\n",
       "      <th>Bedroom2</th>\n",
       "      <th>Bathroom</th>\n",
       "      <th>Car</th>\n",
       "      <th>Landsize</th>\n",
       "      <th>BuildingArea</th>\n",
       "      <th>Lattitude</th>\n",
       "      <th>Longtitude</th>\n",
       "      <th>Regionname</th>\n",
       "      <th>Price</th>\n",
       "    </tr>\n",
       "  </thead>\n",
       "  <tbody>\n",
       "    <tr>\n",
       "      <th>0</th>\n",
       "      <td>2</td>\n",
       "      <td>2.5</td>\n",
       "      <td>2</td>\n",
       "      <td>1</td>\n",
       "      <td>1.0</td>\n",
       "      <td>202</td>\n",
       "      <td>NaN</td>\n",
       "      <td>-37.7996</td>\n",
       "      <td>144.9984</td>\n",
       "      <td>Northern Metropolitan</td>\n",
       "      <td>1480000</td>\n",
       "    </tr>\n",
       "    <tr>\n",
       "      <th>1</th>\n",
       "      <td>2</td>\n",
       "      <td>2.5</td>\n",
       "      <td>2</td>\n",
       "      <td>1</td>\n",
       "      <td>0.0</td>\n",
       "      <td>156</td>\n",
       "      <td>79.0</td>\n",
       "      <td>-37.8079</td>\n",
       "      <td>144.9934</td>\n",
       "      <td>Northern Metropolitan</td>\n",
       "      <td>1035000</td>\n",
       "    </tr>\n",
       "    <tr>\n",
       "      <th>2</th>\n",
       "      <td>3</td>\n",
       "      <td>2.5</td>\n",
       "      <td>3</td>\n",
       "      <td>2</td>\n",
       "      <td>0.0</td>\n",
       "      <td>134</td>\n",
       "      <td>150.0</td>\n",
       "      <td>-37.8093</td>\n",
       "      <td>144.9944</td>\n",
       "      <td>Northern Metropolitan</td>\n",
       "      <td>1465000</td>\n",
       "    </tr>\n",
       "  </tbody>\n",
       "</table>\n",
       "</div>"
      ],
      "text/plain": [
       "   Rooms  Distance  Bedroom2  Bathroom  Car  Landsize  BuildingArea  \\\n",
       "0      2       2.5         2         1  1.0       202           NaN   \n",
       "1      2       2.5         2         1  0.0       156          79.0   \n",
       "2      3       2.5         3         2  0.0       134         150.0   \n",
       "\n",
       "   Lattitude  Longtitude             Regionname    Price  \n",
       "0   -37.7996    144.9984  Northern Metropolitan  1480000  \n",
       "1   -37.8079    144.9934  Northern Metropolitan  1035000  \n",
       "2   -37.8093    144.9944  Northern Metropolitan  1465000  "
      ]
     },
     "execution_count": 56,
     "metadata": {},
     "output_type": "execute_result"
    }
   ],
   "source": [
    "# check the first 3 rows of data\n",
    "df.head(3)   # default 5"
   ]
  },
  {
   "cell_type": "code",
   "execution_count": 57,
   "metadata": {},
   "outputs": [
    {
     "data": {
      "text/plain": [
       "Index(['Rooms', 'Distance', 'Bedroom2', 'Bathroom', 'Car', 'Landsize',\n",
       "       'BuildingArea', 'Lattitude', 'Longtitude', 'Regionname', 'Price'],\n",
       "      dtype='object')"
      ]
     },
     "execution_count": 57,
     "metadata": {},
     "output_type": "execute_result"
    }
   ],
   "source": [
    "# Attributes(including features and the target (class))\n",
    "df.columns"
   ]
  },
  {
   "cell_type": "code",
   "execution_count": 58,
   "metadata": {},
   "outputs": [
    {
     "name": "stdout",
     "output_type": "stream",
     "text": [
      "<class 'pandas.core.frame.DataFrame'>\n",
      "RangeIndex: 13580 entries, 0 to 13579\n",
      "Data columns (total 11 columns):\n",
      " #   Column        Non-Null Count  Dtype  \n",
      "---  ------        --------------  -----  \n",
      " 0   Rooms         13580 non-null  int64  \n",
      " 1   Distance      13580 non-null  float64\n",
      " 2   Bedroom2      13580 non-null  int64  \n",
      " 3   Bathroom      13580 non-null  int64  \n",
      " 4   Car           13518 non-null  float64\n",
      " 5   Landsize      13580 non-null  int64  \n",
      " 6   BuildingArea  7130 non-null   float64\n",
      " 7   Lattitude     13580 non-null  float64\n",
      " 8   Longtitude    13580 non-null  float64\n",
      " 9   Regionname    13580 non-null  object \n",
      " 10  Price         13580 non-null  int64  \n",
      "dtypes: float64(5), int64(5), object(1)\n",
      "memory usage: 1.1+ MB\n"
     ]
    }
   ],
   "source": [
    "df.info()"
   ]
  },
  {
   "cell_type": "code",
   "execution_count": 49,
   "metadata": {},
   "outputs": [],
   "source": [
    "# null data and rate\n",
    "# df.isnull().sum().sort_values(ascending=False)   #df.isnull().any(axis=0).sum()  4"
   ]
  },
  {
   "cell_type": "code",
   "execution_count": 59,
   "metadata": {},
   "outputs": [
    {
     "data": {
      "text/html": [
       "<div>\n",
       "<style scoped>\n",
       "    .dataframe tbody tr th:only-of-type {\n",
       "        vertical-align: middle;\n",
       "    }\n",
       "\n",
       "    .dataframe tbody tr th {\n",
       "        vertical-align: top;\n",
       "    }\n",
       "\n",
       "    .dataframe thead th {\n",
       "        text-align: right;\n",
       "    }\n",
       "</style>\n",
       "<table border=\"1\" class=\"dataframe\">\n",
       "  <thead>\n",
       "    <tr style=\"text-align: right;\">\n",
       "      <th></th>\n",
       "      <th>count</th>\n",
       "      <th>ratio</th>\n",
       "    </tr>\n",
       "  </thead>\n",
       "  <tbody>\n",
       "    <tr>\n",
       "      <th>BuildingArea</th>\n",
       "      <td>6450</td>\n",
       "      <td>0.474963</td>\n",
       "    </tr>\n",
       "    <tr>\n",
       "      <th>Car</th>\n",
       "      <td>62</td>\n",
       "      <td>0.004566</td>\n",
       "    </tr>\n",
       "    <tr>\n",
       "      <th>Price</th>\n",
       "      <td>0</td>\n",
       "      <td>0.000000</td>\n",
       "    </tr>\n",
       "    <tr>\n",
       "      <th>Regionname</th>\n",
       "      <td>0</td>\n",
       "      <td>0.000000</td>\n",
       "    </tr>\n",
       "  </tbody>\n",
       "</table>\n",
       "</div>"
      ],
      "text/plain": [
       "              count     ratio\n",
       "BuildingArea   6450  0.474963\n",
       "Car              62  0.004566\n",
       "Price             0  0.000000\n",
       "Regionname        0  0.000000"
      ]
     },
     "execution_count": 59,
     "metadata": {},
     "output_type": "execute_result"
    }
   ],
   "source": [
    "na_count = df.isnull().sum().sort_values(ascending=False)\n",
    "na_rate = na_count / len(df)\n",
    "na_data = pd.concat([na_count,na_rate],axis=1,keys=['count','ratio'])\n",
    "na_data.head(4)      "
   ]
  },
  {
   "cell_type": "code",
   "execution_count": 60,
   "metadata": {},
   "outputs": [
    {
     "data": {
      "text/plain": [
       "count    1.358000e+04\n",
       "mean     1.075684e+06\n",
       "std      6.393107e+05\n",
       "min      8.500000e+04\n",
       "25%      6.500000e+05\n",
       "50%      9.030000e+05\n",
       "75%      1.330000e+06\n",
       "max      9.000000e+06\n",
       "Name: Price, dtype: float64"
      ]
     },
     "execution_count": 60,
     "metadata": {},
     "output_type": "execute_result"
    }
   ],
   "source": [
    "# the target (class)\n",
    "df['Price'].describe()"
   ]
  },
  {
   "cell_type": "code",
   "execution_count": 52,
   "metadata": {},
   "outputs": [
    {
     "data": {
      "text/plain": [
       "array([[<matplotlib.axes._subplots.AxesSubplot object at 0x000002999524FB08>,\n",
       "        <matplotlib.axes._subplots.AxesSubplot object at 0x000002999553F788>,\n",
       "        <matplotlib.axes._subplots.AxesSubplot object at 0x0000029995573848>],\n",
       "       [<matplotlib.axes._subplots.AxesSubplot object at 0x00000299955A5E48>,\n",
       "        <matplotlib.axes._subplots.AxesSubplot object at 0x00000299955DE4C8>,\n",
       "        <matplotlib.axes._subplots.AxesSubplot object at 0x000002999560FB08>],\n",
       "       [<matplotlib.axes._subplots.AxesSubplot object at 0x0000029995649FC8>,\n",
       "        <matplotlib.axes._subplots.AxesSubplot object at 0x0000029995678BC8>,\n",
       "        <matplotlib.axes._subplots.AxesSubplot object at 0x0000029995681A48>],\n",
       "       [<matplotlib.axes._subplots.AxesSubplot object at 0x00000299956B89C8>,\n",
       "        <matplotlib.axes._subplots.AxesSubplot object at 0x0000029995721388>,\n",
       "        <matplotlib.axes._subplots.AxesSubplot object at 0x000002999575A588>]],\n",
       "      dtype=object)"
      ]
     },
     "execution_count": 52,
     "metadata": {},
     "output_type": "execute_result"
    },
    {
     "data": {
      "image/png": "[encoded data removed]",
      "text/plain": [
       "<Figure size 1440x1080 with 12 Axes>"
      ]
     },
     "metadata": {
      "needs_background": "light"
     },
     "output_type": "display_data"
    }
   ],
   "source": [
    "# the distribution of each numerical feature  \n",
    "df.hist(bins=50,figsize=(20,15))"
   ]
  },
  {
   "cell_type": "code",
   "execution_count": 61,
   "metadata": {},
   "outputs": [
    {
     "name": "stdout",
     "output_type": "stream",
     "text": [
      "(10864, 11)\n",
      "(2716, 11)\n"
     ]
    }
   ],
   "source": [
    "# Sampling\n",
    "from sklearn.model_selection import train_test_split\n",
    "X_train, X_test, y_train, y_test = train_test_split(df,df['Regionname'], test_size=0.2, stratify=df['Regionname'], random_state = 51) \n",
    "print(X_train.shape)\n",
    "print(X_test.shape)"
   ]
  },
  {
   "cell_type": "code",
   "execution_count": 63,
   "metadata": {},
   "outputs": [
    {
     "data": {
      "text/plain": [
       "Price           1.000000\n",
       "Rooms           0.496634\n",
       "Bedroom2        0.475951\n",
       "Bathroom        0.467038\n",
       "Car             0.238979\n",
       "Longtitude      0.203656\n",
       "BuildingArea    0.090981\n",
       "Landsize        0.037507\n",
       "Distance       -0.162522\n",
       "Lattitude      -0.212934\n",
       "Name: Price, dtype: float64"
      ]
     },
     "execution_count": 63,
     "metadata": {},
     "output_type": "execute_result"
    }
   ],
   "source": [
    "# Calculate the correlation coefficient between each pair of attributes\n",
    "corr_matrix = df.corr() \n",
    "corr_matrix['Price'].sort_values(ascending = False)"
   ]
  },
  {
   "cell_type": "code",
   "execution_count": 56,
   "metadata": {},
   "outputs": [
    {
     "data": {
      "text/plain": [
       "array([[<matplotlib.axes._subplots.AxesSubplot object at 0x000002999650A288>,\n",
       "        <matplotlib.axes._subplots.AxesSubplot object at 0x0000029996590C88>,\n",
       "        <matplotlib.axes._subplots.AxesSubplot object at 0x000002999659B248>,\n",
       "        <matplotlib.axes._subplots.AxesSubplot object at 0x0000029995E37C48>,\n",
       "        <matplotlib.axes._subplots.AxesSubplot object at 0x0000029995E67E48>,\n",
       "        <matplotlib.axes._subplots.AxesSubplot object at 0x0000029995E9B048>],\n",
       "       [<matplotlib.axes._subplots.AxesSubplot object at 0x0000029995ED1D08>,\n",
       "        <matplotlib.axes._subplots.AxesSubplot object at 0x0000029995F09E08>,\n",
       "        <matplotlib.axes._subplots.AxesSubplot object at 0x0000029995F13A08>,\n",
       "        <matplotlib.axes._subplots.AxesSubplot object at 0x0000029995F4CBC8>,\n",
       "        <matplotlib.axes._subplots.AxesSubplot object at 0x0000029995FB71C8>,\n",
       "        <matplotlib.axes._subplots.AxesSubplot object at 0x0000029995FEF248>],\n",
       "       [<matplotlib.axes._subplots.AxesSubplot object at 0x0000029996027348>,\n",
       "        <matplotlib.axes._subplots.AxesSubplot object at 0x000002999605F488>,\n",
       "        <matplotlib.axes._subplots.AxesSubplot object at 0x0000029996098588>,\n",
       "        <matplotlib.axes._subplots.AxesSubplot object at 0x00000299960D5E88>,\n",
       "        <matplotlib.axes._subplots.AxesSubplot object at 0x000002999610B748>,\n",
       "        <matplotlib.axes._subplots.AxesSubplot object at 0x0000029996143848>],\n",
       "       [<matplotlib.axes._subplots.AxesSubplot object at 0x000002999617C948>,\n",
       "        <matplotlib.axes._subplots.AxesSubplot object at 0x00000299961B5A88>,\n",
       "        <matplotlib.axes._subplots.AxesSubplot object at 0x00000299961EDB88>,\n",
       "        <matplotlib.axes._subplots.AxesSubplot object at 0x0000029996225C48>,\n",
       "        <matplotlib.axes._subplots.AxesSubplot object at 0x000002999625ED88>,\n",
       "        <matplotlib.axes._subplots.AxesSubplot object at 0x0000029996297E88>],\n",
       "       [<matplotlib.axes._subplots.AxesSubplot object at 0x00000299962CFF88>,\n",
       "        <matplotlib.axes._subplots.AxesSubplot object at 0x000002999630E108>,\n",
       "        <matplotlib.axes._subplots.AxesSubplot object at 0x0000029996346208>,\n",
       "        <matplotlib.axes._subplots.AxesSubplot object at 0x000002999637F288>,\n",
       "        <matplotlib.axes._subplots.AxesSubplot object at 0x00000299963B63C8>,\n",
       "        <matplotlib.axes._subplots.AxesSubplot object at 0x00000299963EF508>],\n",
       "       [<matplotlib.axes._subplots.AxesSubplot object at 0x0000029996427608>,\n",
       "        <matplotlib.axes._subplots.AxesSubplot object at 0x00000299969C0748>,\n",
       "        <matplotlib.axes._subplots.AxesSubplot object at 0x00000299969F97C8>,\n",
       "        <matplotlib.axes._subplots.AxesSubplot object at 0x0000029996A348C8>,\n",
       "        <matplotlib.axes._subplots.AxesSubplot object at 0x0000029996A6D9C8>,\n",
       "        <matplotlib.axes._subplots.AxesSubplot object at 0x0000029996AA4B08>]],\n",
       "      dtype=object)"
      ]
     },
     "execution_count": 56,
     "metadata": {},
     "output_type": "execute_result"
    },
    {
     "data": {
      "image/png": "[encoded data removed]",
      "text/plain": [
       "<Figure size 864x576 with 36 Axes>"
      ]
     },
     "metadata": {
      "needs_background": "light"
     },
     "output_type": "display_data"
    }
   ],
   "source": [
    "from pandas.plotting import scatter_matrix\n",
    "attributes = ['Price','Rooms', 'Bedroom2', 'Bathroom', 'Car','Lattitude']\n",
    "scatter_matrix(df[attributes], figsize = (12, 8))"
   ]
  },
  {
   "cell_type": "code",
   "execution_count": 64,
   "metadata": {},
   "outputs": [
    {
     "data": {
      "text/html": [
       "<div>\n",
       "<style scoped>\n",
       "    .dataframe tbody tr th:only-of-type {\n",
       "        vertical-align: middle;\n",
       "    }\n",
       "\n",
       "    .dataframe tbody tr th {\n",
       "        vertical-align: top;\n",
       "    }\n",
       "\n",
       "    .dataframe thead th {\n",
       "        text-align: right;\n",
       "    }\n",
       "</style>\n",
       "<table border=\"1\" class=\"dataframe\">\n",
       "  <thead>\n",
       "    <tr style=\"text-align: right;\">\n",
       "      <th></th>\n",
       "      <th>Rooms</th>\n",
       "      <th>Distance</th>\n",
       "      <th>Bedroom2</th>\n",
       "      <th>Bathroom</th>\n",
       "      <th>Car</th>\n",
       "      <th>Landsize</th>\n",
       "      <th>BuildingArea</th>\n",
       "      <th>Lattitude</th>\n",
       "      <th>Longtitude</th>\n",
       "      <th>Regionname</th>\n",
       "      <th>Price</th>\n",
       "    </tr>\n",
       "  </thead>\n",
       "  <tbody>\n",
       "    <tr>\n",
       "      <th>5557</th>\n",
       "      <td>2</td>\n",
       "      <td>2.1</td>\n",
       "      <td>2</td>\n",
       "      <td>1</td>\n",
       "      <td>1.0</td>\n",
       "      <td>0</td>\n",
       "      <td>78.0</td>\n",
       "      <td>-37.8308</td>\n",
       "      <td>144.9694</td>\n",
       "      <td>Southern Metropolitan</td>\n",
       "      <td>561000</td>\n",
       "    </tr>\n",
       "    <tr>\n",
       "      <th>365</th>\n",
       "      <td>3</td>\n",
       "      <td>5.9</td>\n",
       "      <td>3</td>\n",
       "      <td>1</td>\n",
       "      <td>1.0</td>\n",
       "      <td>452</td>\n",
       "      <td>175.0</td>\n",
       "      <td>-37.7762</td>\n",
       "      <td>144.9174</td>\n",
       "      <td>Western Metropolitan</td>\n",
       "      <td>1215000</td>\n",
       "    </tr>\n",
       "    <tr>\n",
       "      <th>6847</th>\n",
       "      <td>2</td>\n",
       "      <td>1.8</td>\n",
       "      <td>2</td>\n",
       "      <td>1</td>\n",
       "      <td>1.0</td>\n",
       "      <td>0</td>\n",
       "      <td>NaN</td>\n",
       "      <td>-37.7985</td>\n",
       "      <td>144.9745</td>\n",
       "      <td>Northern Metropolitan</td>\n",
       "      <td>585000</td>\n",
       "    </tr>\n",
       "    <tr>\n",
       "      <th>4916</th>\n",
       "      <td>3</td>\n",
       "      <td>8.8</td>\n",
       "      <td>3</td>\n",
       "      <td>2</td>\n",
       "      <td>1.0</td>\n",
       "      <td>369</td>\n",
       "      <td>NaN</td>\n",
       "      <td>-37.7389</td>\n",
       "      <td>144.9821</td>\n",
       "      <td>Northern Metropolitan</td>\n",
       "      <td>1080000</td>\n",
       "    </tr>\n",
       "    <tr>\n",
       "      <th>354</th>\n",
       "      <td>2</td>\n",
       "      <td>5.9</td>\n",
       "      <td>2</td>\n",
       "      <td>1</td>\n",
       "      <td>3.0</td>\n",
       "      <td>252</td>\n",
       "      <td>108.0</td>\n",
       "      <td>-37.7825</td>\n",
       "      <td>144.9206</td>\n",
       "      <td>Western Metropolitan</td>\n",
       "      <td>705000</td>\n",
       "    </tr>\n",
       "  </tbody>\n",
       "</table>\n",
       "</div>"
      ],
      "text/plain": [
       "      Rooms  Distance  Bedroom2  Bathroom  Car  Landsize  BuildingArea  \\\n",
       "5557      2       2.1         2         1  1.0         0          78.0   \n",
       "365       3       5.9         3         1  1.0       452         175.0   \n",
       "6847      2       1.8         2         1  1.0         0           NaN   \n",
       "4916      3       8.8         3         2  1.0       369           NaN   \n",
       "354       2       5.9         2         1  3.0       252         108.0   \n",
       "\n",
       "      Lattitude  Longtitude             Regionname    Price  \n",
       "5557   -37.8308    144.9694  Southern Metropolitan   561000  \n",
       "365    -37.7762    144.9174   Western Metropolitan  1215000  \n",
       "6847   -37.7985    144.9745  Northern Metropolitan   585000  \n",
       "4916   -37.7389    144.9821  Northern Metropolitan  1080000  \n",
       "354    -37.7825    144.9206   Western Metropolitan   705000  "
      ]
     },
     "execution_count": 64,
     "metadata": {},
     "output_type": "execute_result"
    }
   ],
   "source": [
    "X_train.head()"
   ]
  },
  {
   "cell_type": "code",
   "execution_count": 65,
   "metadata": {},
   "outputs": [
    {
     "data": {
      "text/plain": [
       "5557    Southern Metropolitan\n",
       "365      Western Metropolitan\n",
       "6847    Northern Metropolitan\n",
       "4916    Northern Metropolitan\n",
       "354      Western Metropolitan\n",
       "Name: Regionname, dtype: object"
      ]
     },
     "execution_count": 65,
     "metadata": {},
     "output_type": "execute_result"
    }
   ],
   "source": [
    "y_train.head()"
   ]
  },
  {
   "cell_type": "code",
   "execution_count": 66,
   "metadata": {},
   "outputs": [],
   "source": [
    "train_set = X_train    # X_train.head()   train_set.head()"
   ]
  },
  {
   "cell_type": "code",
   "execution_count": 67,
   "metadata": {},
   "outputs": [],
   "source": [
    "# split feature and class\n",
    "data = train_set.drop('Price', axis = 1) "
   ]
  },
  {
   "cell_type": "code",
   "execution_count": 70,
   "metadata": {},
   "outputs": [
    {
     "data": {
      "text/html": [
       "<div>\n",
       "<style scoped>\n",
       "    .dataframe tbody tr th:only-of-type {\n",
       "        vertical-align: middle;\n",
       "    }\n",
       "\n",
       "    .dataframe tbody tr th {\n",
       "        vertical-align: top;\n",
       "    }\n",
       "\n",
       "    .dataframe thead th {\n",
       "        text-align: right;\n",
       "    }\n",
       "</style>\n",
       "<table border=\"1\" class=\"dataframe\">\n",
       "  <thead>\n",
       "    <tr style=\"text-align: right;\">\n",
       "      <th></th>\n",
       "      <th>Rooms</th>\n",
       "      <th>Distance</th>\n",
       "      <th>Bedroom2</th>\n",
       "      <th>Bathroom</th>\n",
       "      <th>Car</th>\n",
       "      <th>Landsize</th>\n",
       "      <th>BuildingArea</th>\n",
       "      <th>Lattitude</th>\n",
       "      <th>Longtitude</th>\n",
       "      <th>Regionname</th>\n",
       "    </tr>\n",
       "  </thead>\n",
       "  <tbody>\n",
       "    <tr>\n",
       "      <th>5557</th>\n",
       "      <td>2</td>\n",
       "      <td>2.1</td>\n",
       "      <td>2</td>\n",
       "      <td>1</td>\n",
       "      <td>1.0</td>\n",
       "      <td>0</td>\n",
       "      <td>78.0</td>\n",
       "      <td>-37.8308</td>\n",
       "      <td>144.9694</td>\n",
       "      <td>Southern Metropolitan</td>\n",
       "    </tr>\n",
       "    <tr>\n",
       "      <th>365</th>\n",
       "      <td>3</td>\n",
       "      <td>5.9</td>\n",
       "      <td>3</td>\n",
       "      <td>1</td>\n",
       "      <td>1.0</td>\n",
       "      <td>452</td>\n",
       "      <td>175.0</td>\n",
       "      <td>-37.7762</td>\n",
       "      <td>144.9174</td>\n",
       "      <td>Western Metropolitan</td>\n",
       "    </tr>\n",
       "    <tr>\n",
       "      <th>6847</th>\n",
       "      <td>2</td>\n",
       "      <td>1.8</td>\n",
       "      <td>2</td>\n",
       "      <td>1</td>\n",
       "      <td>1.0</td>\n",
       "      <td>0</td>\n",
       "      <td>NaN</td>\n",
       "      <td>-37.7985</td>\n",
       "      <td>144.9745</td>\n",
       "      <td>Northern Metropolitan</td>\n",
       "    </tr>\n",
       "    <tr>\n",
       "      <th>4916</th>\n",
       "      <td>3</td>\n",
       "      <td>8.8</td>\n",
       "      <td>3</td>\n",
       "      <td>2</td>\n",
       "      <td>1.0</td>\n",
       "      <td>369</td>\n",
       "      <td>NaN</td>\n",
       "      <td>-37.7389</td>\n",
       "      <td>144.9821</td>\n",
       "      <td>Northern Metropolitan</td>\n",
       "    </tr>\n",
       "    <tr>\n",
       "      <th>354</th>\n",
       "      <td>2</td>\n",
       "      <td>5.9</td>\n",
       "      <td>2</td>\n",
       "      <td>1</td>\n",
       "      <td>3.0</td>\n",
       "      <td>252</td>\n",
       "      <td>108.0</td>\n",
       "      <td>-37.7825</td>\n",
       "      <td>144.9206</td>\n",
       "      <td>Western Metropolitan</td>\n",
       "    </tr>\n",
       "  </tbody>\n",
       "</table>\n",
       "</div>"
      ],
      "text/plain": [
       "      Rooms  Distance  Bedroom2  Bathroom  Car  Landsize  BuildingArea  \\\n",
       "5557      2       2.1         2         1  1.0         0          78.0   \n",
       "365       3       5.9         3         1  1.0       452         175.0   \n",
       "6847      2       1.8         2         1  1.0         0           NaN   \n",
       "4916      3       8.8         3         2  1.0       369           NaN   \n",
       "354       2       5.9         2         1  3.0       252         108.0   \n",
       "\n",
       "      Lattitude  Longtitude             Regionname  \n",
       "5557   -37.8308    144.9694  Southern Metropolitan  \n",
       "365    -37.7762    144.9174   Western Metropolitan  \n",
       "6847   -37.7985    144.9745  Northern Metropolitan  \n",
       "4916   -37.7389    144.9821  Northern Metropolitan  \n",
       "354    -37.7825    144.9206   Western Metropolitan  "
      ]
     },
     "execution_count": 70,
     "metadata": {},
     "output_type": "execute_result"
    }
   ],
   "source": [
    "data.head()"
   ]
  },
  {
   "cell_type": "code",
   "execution_count": 71,
   "metadata": {},
   "outputs": [
    {
     "data": {
      "text/plain": [
       "5557     561000\n",
       "365     1215000\n",
       "6847     585000\n",
       "4916    1080000\n",
       "354      705000\n",
       "Name: Price, dtype: int64"
      ]
     },
     "execution_count": 71,
     "metadata": {},
     "output_type": "execute_result"
    }
   ],
   "source": [
    "labels = train_set['Price'].copy()\n",
    "labels.head()"
   ]
  },
  {
   "cell_type": "code",
   "execution_count": 72,
   "metadata": {},
   "outputs": [
    {
     "data": {
      "text/plain": [
       "SimpleImputer(add_indicator=False, copy=True, fill_value=None,\n",
       "              missing_values=nan, strategy='median', verbose=0)"
      ]
     },
     "execution_count": 72,
     "metadata": {},
     "output_type": "execute_result"
    }
   ],
   "source": [
    "from sklearn.impute import SimpleImputer\n",
    "imputer = SimpleImputer(strategy = 'median')\n",
    "train_set_numeric = data.drop('Regionname', axis = 1) \n",
    "imputer.fit(train_set_numeric)"
   ]
  },
  {
   "cell_type": "code",
   "execution_count": 73,
   "metadata": {},
   "outputs": [],
   "source": [
    "X = imputer.transform(train_set_numeric)\n",
    "hdata_transimit = pd.DataFrame(X, columns=train_set_numeric.columns, index = train_set_numeric.index)"
   ]
  },
  {
   "cell_type": "code",
   "execution_count": 75,
   "metadata": {},
   "outputs": [
    {
     "name": "stdout",
     "output_type": "stream",
     "text": [
      "<class 'pandas.core.frame.DataFrame'>\n",
      "Int64Index: 10864 entries, 5557 to 3616\n",
      "Data columns (total 9 columns):\n",
      " #   Column        Non-Null Count  Dtype  \n",
      "---  ------        --------------  -----  \n",
      " 0   Rooms         10864 non-null  float64\n",
      " 1   Distance      10864 non-null  float64\n",
      " 2   Bedroom2      10864 non-null  float64\n",
      " 3   Bathroom      10864 non-null  float64\n",
      " 4   Car           10864 non-null  float64\n",
      " 5   Landsize      10864 non-null  float64\n",
      " 6   BuildingArea  10864 non-null  float64\n",
      " 7   Lattitude     10864 non-null  float64\n",
      " 8   Longtitude    10864 non-null  float64\n",
      "dtypes: float64(9)\n",
      "memory usage: 848.8 KB\n"
     ]
    }
   ],
   "source": [
    "hdata_transimit.info()  "
   ]
  },
  {
   "cell_type": "code",
   "execution_count": 76,
   "metadata": {},
   "outputs": [
    {
     "data": {
      "text/html": [
       "<div>\n",
       "<style scoped>\n",
       "    .dataframe tbody tr th:only-of-type {\n",
       "        vertical-align: middle;\n",
       "    }\n",
       "\n",
       "    .dataframe tbody tr th {\n",
       "        vertical-align: top;\n",
       "    }\n",
       "\n",
       "    .dataframe thead th {\n",
       "        text-align: right;\n",
       "    }\n",
       "</style>\n",
       "<table border=\"1\" class=\"dataframe\">\n",
       "  <thead>\n",
       "    <tr style=\"text-align: right;\">\n",
       "      <th></th>\n",
       "      <th>Regionname</th>\n",
       "    </tr>\n",
       "  </thead>\n",
       "  <tbody>\n",
       "    <tr>\n",
       "      <th>5557</th>\n",
       "      <td>Southern Metropolitan</td>\n",
       "    </tr>\n",
       "    <tr>\n",
       "      <th>365</th>\n",
       "      <td>Western Metropolitan</td>\n",
       "    </tr>\n",
       "    <tr>\n",
       "      <th>6847</th>\n",
       "      <td>Northern Metropolitan</td>\n",
       "    </tr>\n",
       "    <tr>\n",
       "      <th>4916</th>\n",
       "      <td>Northern Metropolitan</td>\n",
       "    </tr>\n",
       "    <tr>\n",
       "      <th>354</th>\n",
       "      <td>Western Metropolitan</td>\n",
       "    </tr>\n",
       "    <tr>\n",
       "      <th>4749</th>\n",
       "      <td>Southern Metropolitan</td>\n",
       "    </tr>\n",
       "    <tr>\n",
       "      <th>11687</th>\n",
       "      <td>Eastern Metropolitan</td>\n",
       "    </tr>\n",
       "    <tr>\n",
       "      <th>7169</th>\n",
       "      <td>Southern Metropolitan</td>\n",
       "    </tr>\n",
       "    <tr>\n",
       "      <th>410</th>\n",
       "      <td>Southern Metropolitan</td>\n",
       "    </tr>\n",
       "    <tr>\n",
       "      <th>7348</th>\n",
       "      <td>Southern Metropolitan</td>\n",
       "    </tr>\n",
       "  </tbody>\n",
       "</table>\n",
       "</div>"
      ],
      "text/plain": [
       "                  Regionname\n",
       "5557   Southern Metropolitan\n",
       "365     Western Metropolitan\n",
       "6847   Northern Metropolitan\n",
       "4916   Northern Metropolitan\n",
       "354     Western Metropolitan\n",
       "4749   Southern Metropolitan\n",
       "11687   Eastern Metropolitan\n",
       "7169   Southern Metropolitan\n",
       "410    Southern Metropolitan\n",
       "7348   Southern Metropolitan"
      ]
     },
     "execution_count": 76,
     "metadata": {},
     "output_type": "execute_result"
    }
   ],
   "source": [
    "train_set_norminal = train_set[['Regionname']]\n",
    "train_set_norminal.head(10)"
   ]
  },
  {
   "cell_type": "code",
   "execution_count": 77,
   "metadata": {},
   "outputs": [
    {
     "data": {
      "text/plain": [
       "<10864x8 sparse matrix of type '<class 'numpy.float64'>'\n",
       "\twith 10864 stored elements in Compressed Sparse Row format>"
      ]
     },
     "execution_count": 77,
     "metadata": {},
     "output_type": "execute_result"
    }
   ],
   "source": [
    "from sklearn.preprocessing import OneHotEncoder\n",
    "cat_encoder = OneHotEncoder()\n",
    "train_set_encoding = cat_encoder.fit_transform(train_set_norminal)\n",
    "train_set_encoding"
   ]
  },
  {
   "cell_type": "code",
   "execution_count": 78,
   "metadata": {},
   "outputs": [],
   "source": [
    "from sklearn.pipeline import Pipeline\n",
    "from sklearn.preprocessing import StandardScaler\n",
    "pipeline = Pipeline([\n",
    "    ('imputer', SimpleImputer(strategy = 'median')),\n",
    "    ('standard_scaler', StandardScaler()),\n",
    "])\n",
    "hdata_num_transmit = pipeline.fit_transform(train_set_numeric)"
   ]
  },
  {
   "cell_type": "code",
   "execution_count": 79,
   "metadata": {},
   "outputs": [],
   "source": [
    "from sklearn.compose import ColumnTransformer\n",
    "\n",
    "num_attribs = list(train_set_numeric)\n",
    "cat_attribs = ['Regionname']\n",
    "\n",
    "final_pipeline = ColumnTransformer([\n",
    "    ('number', pipeline, num_attribs),\n",
    "    ('cat', OneHotEncoder(), cat_attribs),\n",
    "])\n",
    "\n",
    "data_prepared = final_pipeline.fit_transform(data)"
   ]
  },
  {
   "cell_type": "code",
   "execution_count": 80,
   "metadata": {},
   "outputs": [
    {
     "data": {
      "text/plain": [
       "LinearRegression(copy_X=True, fit_intercept=True, n_jobs=None, normalize=False)"
      ]
     },
     "execution_count": 80,
     "metadata": {},
     "output_type": "execute_result"
    }
   ],
   "source": [
    "from sklearn.linear_model import LinearRegression\n",
    "\n",
    "linear_reg = LinearRegression()\n",
    "linear_reg.fit(data_prepared, labels)"
   ]
  },
  {
   "cell_type": "code",
   "execution_count": 81,
   "metadata": {},
   "outputs": [],
   "source": [
    "t_data = data.iloc[:5]\n",
    "t_labels = labels.iloc[:5]"
   ]
  },
  {
   "cell_type": "code",
   "execution_count": 82,
   "metadata": {},
   "outputs": [
    {
     "name": "stdout",
     "output_type": "stream",
     "text": [
      "Predictions: [1186217.38450449  969057.29407308  893945.61491174  999496.6559992\n",
      "  768379.20510387]\n",
      "Labels: [561000, 1215000, 585000, 1080000, 705000]\n"
     ]
    }
   ],
   "source": [
    "t_data_prepared = full_pipeline.transform(t_data)\n",
    "print('Predictions:', linear_reg.predict(t_data_prepared))\n",
    "print('Labels:', list(t_labels))"
   ]
  },
  {
   "cell_type": "code",
   "execution_count": 83,
   "metadata": {},
   "outputs": [
    {
     "data": {
      "text/plain": [
       "445070.18167343416"
      ]
     },
     "execution_count": 83,
     "metadata": {},
     "output_type": "execute_result"
    }
   ],
   "source": [
    "from sklearn.metrics import mean_squared_error\n",
    "housing_price_predictions = linear_reg.predict(data_prepared)\n",
    "linear_mean_squared_error = mean_squared_error(labels, housing_price_predictions)\n",
    "linear_root_mean_squared_error = np.sqrt(linear_mean_squared_error)\n",
    "linear_root_mean_squared_error"
   ]
  },
  {
   "cell_type": "code",
   "execution_count": 84,
   "metadata": {},
   "outputs": [
    {
     "data": {
      "text/plain": [
       "4929.776856747874"
      ]
     },
     "execution_count": 84,
     "metadata": {},
     "output_type": "execute_result"
    }
   ],
   "source": [
    "from sklearn.tree import DecisionTreeRegressor\n",
    "\n",
    "tree_regressor = DecisionTreeRegressor()\n",
    "tree_regressor.fit(data_prepared, labels)\n",
    "\n",
    "housing_price_predictions = tree_regressor.predict(data_prepared)\n",
    "tree_mean_squared_error = mean_squared_error(labels, housing_price_predictions)\n",
    "tree_root_mean_squared_error = np.sqrt(tree_mean_squared_error)\n",
    "tree_root_mean_squared_error"
   ]
  },
  {
   "cell_type": "code",
   "execution_count": 85,
   "metadata": {},
   "outputs": [],
   "source": [
    "from sklearn.model_selection import cross_val_score\n",
    "scores = cross_val_score(tree_regressor, data_prepared, labels, scoring = 'neg_mean_squared_error', cv = 10)\n",
    "tree_rmse_scores = np.sqrt(-scores)"
   ]
  },
  {
   "cell_type": "code",
   "execution_count": 86,
   "metadata": {},
   "outputs": [
    {
     "name": "stdout",
     "output_type": "stream",
     "text": [
      "Scores: [453726.82197056 476294.78043927 395823.48716074 507275.95778862\n",
      " 412877.29667027 382148.43832755 467499.59331004 375980.21057021\n",
      " 406223.76239833 400734.40007355]\n",
      "Mean: 427858.4748709132\n",
      "STD deviation: 42578.1822601336\n"
     ]
    }
   ],
   "source": [
    "def display_scores(scores):\n",
    "    print('Scores:', scores)\n",
    "    print('Mean:', scores.mean())\n",
    "    print('STD deviation:', scores.std())\n",
    "     \n",
    "display_scores(tree_rmse_scores)  "
   ]
  },
  {
   "cell_type": "code",
   "execution_count": null,
   "metadata": {},
   "outputs": [],
   "source": []
  }
 ],
 "metadata": {
  "kernelspec": {
   "display_name": "Python 3",
   "language": "python",
   "name": "python3"
  },
  "language_info": {
   "codemirror_mode": {
    "name": "ipython",
    "version": 3
   },
   "file_extension": ".py",
   "mimetype": "text/x-python",
   "name": "python",
   "nbconvert_exporter": "python",
   "pygments_lexer": "ipython3",
   "version": "3.7.6"
  }
 },
 "nbformat": 4,
 "nbformat_minor": 4
}
